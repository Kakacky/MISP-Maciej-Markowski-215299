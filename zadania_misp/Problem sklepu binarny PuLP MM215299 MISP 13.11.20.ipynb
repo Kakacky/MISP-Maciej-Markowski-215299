{
 "cells": [
  {
   "cell_type": "markdown",
   "metadata": {},
   "source": [
    "### Rozwiązywany jest opisany podczas zajęć problem optymalizacji zatrudnień pracowników w sklepie w ciągu tygodnia pod względem minimalizacji kosztów\n",
    "każdy z pracowników posiada swoje stawki za godzinę, może być zatrudniony na 4 godziny dziennie oraz posiada określone dni w ktore może pracować  \n",
    "ponadto każdy z pracowników może pracować maksymalnie 3 dni w tygodniu\n",
    "\n",
    "![Zdj tabeli](./images/sklep.png)\n",
    "\n",
    "#### problem został sprowadzony do problemu liniowego z  zastosowaniem zmiennych binarnych według nastepujacego schematu:\n",
    "\n",
    "![Zdj tabeli binarnej](./images/sklep3.png)\n",
    "\n",
    "dla każdej pary pracownik_dzien tygodnia została utworzona zmienna binarna reprezentujaca czy pracownik danego dnia pracuje czy nie  \n",
    "w odniesieniu do tych zmiennych zostały utworzone ograniczenia w postaci przykładowo:  \n",
    "suma dni w jakie pracownik pracuje (zmiennych go dotyczących przyjmujących wartość 1) musi być mniejsza od maksymalnej ilości dni jaką może przepracować w tygodniu"
   ]
  },
  {
   "cell_type": "code",
   "execution_count": 1,
   "metadata": {},
   "outputs": [
    {
     "name": "stdout",
     "output_type": "stream",
     "text": [
      "2.3.1\n"
     ]
    }
   ],
   "source": [
    "import pulp\n",
    "print(pulp.__version__)"
   ]
  },
  {
   "cell_type": "code",
   "execution_count": 2,
   "metadata": {},
   "outputs": [],
   "source": [
    "from pulp import *"
   ]
  },
  {
   "cell_type": "code",
   "execution_count": 74,
   "metadata": {},
   "outputs": [
    {
     "name": "stdout",
     "output_type": "stream",
     "text": [
      "[[0, 0, 0, 0, 0], [0, 0, 0, 0, 0], [0, 0, 0, 0, 0], [0, 0, 0, 0, 0], [0, 0, 0, 0, 0], [0, 0, 0, 0, 0]]\n",
      "[['pnAnia', 'wtAnia', 'srAnia', 'czwAnia', 'ptAnia'], ['pnStefan', 'wtStefan', 'srStefan', 'czwStefan', 'ptStefan'], ['pnHektor', 'wtHektor', 'srHektor', 'czwHektor', 'ptHektor'], ['pnOlaf', 'wtOlaf', 'srOlaf', 'czwOlaf', 'ptOlaf'], ['pnLidia', 'wtLidia', 'srLidia', 'czwLidia', 'ptLidia'], ['pnPiotr', 'wtPiotr', 'srPiotr', 'czwPiotr', 'ptPiotr']]\n"
     ]
    }
   ],
   "source": [
    "dni_ludzie=[[0 for x in range(5)] for x in range(6)]\n",
    "print(dni_ludzie)\n",
    "#6 wierszy po 5 kolumn\n",
    "# kolumny - dni, wiersze - ludzie\n",
    "\n",
    "dni = [\"pn\", \"wt\", \"sr\", \"czw\", \"pt\"]\n",
    "ludzie = [\"Ania\", \"Stefan\", \"Hektor\", \"Olaf\", \"Lidia\", \"Piotr\"]\n",
    "i = 0\n",
    "j = 0\n",
    "for ludz in ludzie:\n",
    "    for dzien in dni:\n",
    "        dni_ludzie[ludzie.index(ludz)][dni.index(dzien)] = str(dzien) + str(ludz)\n",
    "\n",
    "print(dni_ludzie)\n",
    "\n",
    "\n",
    "#wymagania dni\n",
    "dni_demand = [3,1,1,1,2]\n",
    "stawki = [100, 50, 60, 40, 110, 70]"
   ]
  },
  {
   "cell_type": "markdown",
   "metadata": {},
   "source": [
    "### Zmienne zostaly zapisane w postaci listy list, co o rozmiarach odpowiadajacym 6 pracownikom i 5 dniom tygodnia\n",
    "\n",
    "przygotowane listy sa wykorzystywane w problemie liniowym do utworzenia zmiennych liniowych\n",
    "następnie opisane wcześniej ograniczenia są aplikowane dla odpowiednich zmiennych list (zawartych w liście)\n",
    "w ten sposób rozpatrywane są możliwości tygodniowe każdej z osób\n",
    "dodatowo niektóre zmienne muszą przyjąć wartość zero (kolejne ograniczenia), gdyż w te dni niektóre z osób nie są dostępne"
   ]
  },
  {
   "cell_type": "code",
   "execution_count": 98,
   "metadata": {},
   "outputs": [
    {
     "name": "stdout",
     "output_type": "stream",
     "text": [
      "1 : 3\n",
      "2 : 1\n",
      "3 : 1\n",
      "4 : 1\n",
      "5 : 2\n",
      "Status: Optimal\n",
      "czwAnia = 0.0\n",
      "czwHektor = 0.0\n",
      "czwLidia = 0.0\n",
      "czwOlaf = 1.0\n",
      "czwPiotr = 0.0\n",
      "czwStefan = 0.0\n",
      "pnAnia = 0.0\n",
      "pnHektor = 1.0\n",
      "pnLidia = 0.0\n",
      "pnOlaf = 1.0\n",
      "pnPiotr = 0.0\n",
      "pnStefan = 1.0\n",
      "ptAnia = 0.0\n",
      "ptHektor = 0.0\n",
      "ptLidia = 0.0\n",
      "ptOlaf = 1.0\n",
      "ptPiotr = 0.0\n",
      "ptStefan = 1.0\n",
      "srAnia = 0.0\n",
      "srHektor = 0.0\n",
      "srLidia = 0.0\n",
      "srOlaf = 1.0\n",
      "srPiotr = 0.0\n",
      "srStefan = 0.0\n",
      "wtAnia = 0.0\n",
      "wtHektor = 0.0\n",
      "wtLidia = 0.0\n",
      "wtOlaf = 1.0\n",
      "wtPiotr = 0.0\n",
      "wtStefan = 0.0\n",
      "Calkowity koszt = 1440.0\n"
     ]
    }
   ],
   "source": [
    "prob = LpProblem(\"ProblemSklepu\", LpMinimize)\n",
    "#zmienne\n",
    "\n",
    "#x = LpVariable.dict('lista', dni_ludzie, lowBound = 0, upBound = 1, cat = LpInteger)\n",
    "#nope, nie dziala z lista, ale z tuplami tak? nie, też nie\n",
    "#for x in range(6):\n",
    "#    for y in range(5):\n",
    "#        var[x][y] = LpVariable(dni_ludzie[x][y],0,3,LpInteger)\n",
    "#var = [[LpVariable(\"x{}\".format(i+j), 0, 3, LpInteger) for i in range(5)]for j in range(6)]\n",
    "\n",
    "\n",
    "var = [[LpVariable(\"{}\".format(dzien+ludz), 0, 1, LpInteger) for dzien in dni]for ludz in ludzie] #0,1 bo binarne\n",
    "#print(var[0][0])\n",
    "\n",
    "#funkcja zysku\n",
    "prob+= 4*lpSum( [[stawki[ludzie.index(ludz)]*var[ludzie.index(ludz)][dni.index(dzien)] for ludz in ludzie] for dzien in dni] ), \"Koszt\"\n",
    "\n",
    "#wymagania dla kazdego dnia\n",
    "#poniewaz index znajduje pierwszy index pierwszego elementu o danej wartosci a nie bezwzgledny\n",
    "i = 0\n",
    "#jeszcze lepsze byloby enumerate!\n",
    "for dzien_d in dni_demand:\n",
    "    prob+= lpSum([(var[ludzie.index(ludz)][i]) for ludz in ludzie]) >= dzien_d\n",
    "    i+=1\n",
    "    print(i,\":\",dzien_d)\n",
    "\n",
    "    \n",
    "#mozliwosci Anii\n",
    "for dnA in var[0]:\n",
    "    prob += lpSum(var[0][var[0].index(dnA)]) <=5\n",
    "\n",
    "#stefan moze tylko w pon\n",
    "for i in range(1,5):\n",
    "    var[1][i] == 0\n",
    "\n",
    "#hekt\n",
    "var[2][3] == 0\n",
    "var[2][4] ==0\n",
    "\n",
    "#olaf\n",
    "#wlasciwie <=5 to nie ograniczenie\n",
    "\n",
    "#lidia\n",
    "var[4][1] == 0\n",
    "var[4][2] == 0\n",
    "var[4][3] == 0\n",
    "\n",
    "#piotr\n",
    "var[5][3] == 0\n",
    "var[5][4] == 0\n",
    "\n",
    "for i in range(6): #6 ludzi, juz mi sie nie chce list index\n",
    "    for j in range(5):#5 dni\n",
    "        prob += lpSum(var[i][j]) <=3\n",
    "prob.solve()\n",
    "#for dzien_d in dni_demand:\n",
    "#    lpSum(var[dni_demand.index(dzien_d)])\n",
    "\n",
    "#czy rozwiazalo\n",
    "print(\"Status:\", LpStatus[prob.status])\n",
    "#dobrane wartosci zmiennych\n",
    "for v in prob.variables():\n",
    "    print(v.name, \"=\", v.varValue)\n",
    "#wartosc zoptymalizowanej funkcji (zysk)\n",
    "print(\"Calkowity koszt =\", value(prob.objective))"
   ]
  },
  {
   "cell_type": "markdown",
   "metadata": {},
   "source": [
    "### WNIOSKI\n",
    "Program przygotował listę wszystkich zmienych reprezentujących który z pracowników pracuje którego dnia, a także zwrócił koszt takiego podziału zatrudnienia, który uznał za optymalny"
   ]
  },
  {
   "cell_type": "code",
   "execution_count": null,
   "metadata": {},
   "outputs": [],
   "source": []
  }
 ],
 "metadata": {
  "kernelspec": {
   "display_name": "Python 3",
   "language": "python",
   "name": "python3"
  },
  "language_info": {
   "codemirror_mode": {
    "name": "ipython",
    "version": 3
   },
   "file_extension": ".py",
   "mimetype": "text/x-python",
   "name": "python",
   "nbconvert_exporter": "python",
   "pygments_lexer": "ipython3",
   "version": "3.8.3"
  }
 },
 "nbformat": 4,
 "nbformat_minor": 4
}
