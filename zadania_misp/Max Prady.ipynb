{
 "cells": [
  {
   "cell_type": "markdown",
   "metadata": {},
   "source": [
    "## W tym pliku rozwiązywany jest problem wyznaczenia maksymalnego prądu jaki moze przepłynac przez  układ dostarczony na zajęciach\n",
    "### rozwiązywany jest on jako problem liniowy za pomocą biblioteki pulp\n",
    "  \n",
    "zmiennymi liniowymi sa wartości prądow przepływajacych przez rezystory,  \n",
    "ograniczeniami sa maksymalne ilości prądów które mogą przez nie przepłynać oraz prawa Kirchhoffa dla węzłów\n",
    "problem jest typu maksymalizujacego\n",
    "jako wartość funkcji zysku przyjęty został maksymalny prąd płynacy przez rezystor będacy tzw. wąskim gardłem układu (Rezystor 3), ponieważ wieksza wartość niż jego maksimum nie przepłynie w układzie\n",
    "\n",
    "![Zdjęcie układu rezystorów](./images/prady.png)\n",
    "\n",
    "\n",
    "### znaczenie większości wywoływanych funkcji i tworzonych zmiennych opisana jest komentarzami w programie"
   ]
  },
  {
   "cell_type": "code",
   "execution_count": 2,
   "metadata": {},
   "outputs": [
    {
     "name": "stdout",
     "output_type": "stream",
     "text": [
      "2.3.1\n"
     ]
    }
   ],
   "source": [
    "import pulp\n",
    "print(pulp.__version__)"
   ]
  },
  {
   "cell_type": "code",
   "execution_count": 3,
   "metadata": {},
   "outputs": [],
   "source": [
    "from pulp import *"
   ]
  },
  {
   "cell_type": "code",
   "execution_count": 10,
   "metadata": {},
   "outputs": [
    {
     "name": "stdout",
     "output_type": "stream",
     "text": [
      "Status: Optimal\n",
      "I1 = 1.5428571\n",
      "I2 = 2.0571429\n",
      "I3 = 3.6\n",
      "I4 = 1.6\n",
      "I5 = 2.0\n",
      "Calkowity prad =  3.6\n"
     ]
    }
   ],
   "source": [
    "prob = LpProblem(\"PradMaksymalny\", LpMaximize)\n",
    "\n",
    "x1 = LpVariable(\"I1\",0.0001)\n",
    "x2 = LpVariable(\"I2\",0.0001)\n",
    "x3 = LpVariable(\"I3\",0.0001)\n",
    "x4 = LpVariable(\"I4\",0.0001)\n",
    "x5 = LpVariable(\"I5\",0.0001)\n",
    "\n",
    "#problem maxymalizacji pradu\n",
    "#prob += x1 + x2 + x3 +  x4 +  x5, \"Calkowity prad\"\n",
    "prob += x3, \"Calkowity prad\"\n",
    "#ograniczenia\n",
    "prob += x1 *8 == x2 * 6\n",
    "prob += x4 * 10 == x5 * 8\n",
    "prob += x1 <= 2\n",
    "prob += x2 <= 3\n",
    "prob += x3 <= 4\n",
    "prob += x4 <= 2\n",
    "prob += x5 <= 2\n",
    "prob+= x1 + x2 == x3\n",
    "prob+= x3 == x4 + x5\n",
    "\n",
    "prob.writeLP(\"MaxPrady.lp\") #plik\n",
    "prob.solve()\n",
    "print(\"Status:\", LpStatus[prob.status])\n",
    "\n",
    "for v in prob.variables():\n",
    "    print(v.name, \"=\", v.varValue) #odwrotnosc bo rezystancje\n",
    "print(\"Calkowity prad = \", value(prob.objective))\n",
    "\n"
   ]
  },
  {
   "cell_type": "markdown",
   "metadata": {},
   "source": [
    "### Rezultatem jest prąd o wartości 3.6A, co jest poniżej maksymalnego prądu który mógłby przepłynąć przez układ, jest jednak zbliżony i zgadza się z równaniami węzłowymi, rozwiązanie jest optymalne"
   ]
  },
  {
   "cell_type": "code",
   "execution_count": null,
   "metadata": {},
   "outputs": [],
   "source": []
  }
 ],
 "metadata": {
  "kernelspec": {
   "display_name": "Python 3",
   "language": "python",
   "name": "python3"
  },
  "language_info": {
   "codemirror_mode": {
    "name": "ipython",
    "version": 3
   },
   "file_extension": ".py",
   "mimetype": "text/x-python",
   "name": "python",
   "nbconvert_exporter": "python",
   "pygments_lexer": "ipython3",
   "version": "3.8.3"
  }
 },
 "nbformat": 4,
 "nbformat_minor": 4
}
