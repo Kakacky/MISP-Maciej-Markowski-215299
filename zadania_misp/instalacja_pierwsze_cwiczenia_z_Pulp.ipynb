{
 "cells": [
  {
   "cell_type": "code",
   "execution_count": 4,
   "metadata": {
    "colab": {
     "base_uri": "https://localhost:8080/",
     "height": 215
    },
    "id": "BjX-mj9e8D5a",
    "outputId": "a53b8a45-9e84-4a48-fa91-5597eeb80850"
   },
   "outputs": [
    {
     "name": "stdout",
     "output_type": "stream",
     "text": [
      "^C\n"
     ]
    }
   ],
   "source": [
    "#!pip install pulp\n",
    "\n",
    "#!sudo apt-get install coinor-cbc glpk-utils coinor-clp\n",
    "!conda install -c conda-forge pulp"
   ]
  },
  {
   "cell_type": "code",
   "execution_count": 5,
   "metadata": {
    "colab": {
     "base_uri": "https://localhost:8080/",
     "height": 35
    },
    "id": "HMGiufp89W-9",
    "outputId": "9e6761ea-6310-4ebe-ec96-bffc23a0215c"
   },
   "outputs": [
    {
     "name": "stdout",
     "output_type": "stream",
     "text": [
      "2.3.1\n"
     ]
    }
   ],
   "source": [
    "### kod sprawdza czy instalacja się udała\n",
    "import pulp\n",
    "\n",
    "print(pulp.__version__)"
   ]
  },
  {
   "cell_type": "code",
   "execution_count": 6,
   "metadata": {
    "colab": {
     "base_uri": "https://localhost:8080/",
     "height": 1000
    },
    "id": "05p9Frax-V2f",
    "outputId": "15f6160b-c4cc-46ba-d7eb-aa23416c0ac5"
   },
   "outputs": [
    {
     "name": "stderr",
     "output_type": "stream",
     "text": [
      ".."
     ]
    },
    {
     "name": "stdout",
     "output_type": "stream",
     "text": [
      "Solver <class 'pulp.apis.coin_api.PULP_CBC_CMD'> available\n",
      "Solver <class 'pulp.apis.cplex_api.CPLEX_DLL'> unavailable\n",
      "Solver <class 'pulp.apis.cplex_api.CPLEX_CMD'> unavailable\n",
      "Solver <class 'pulp.apis.cplex_api.CPLEX_PY'> unavailable\n",
      "Solver <class 'pulp.apis.coin_api.COIN_CMD'> unavailable\n",
      "Solver <class 'pulp.apis.coin_api.COINMP_DLL'> unavailable\n",
      "Solver <class 'pulp.apis.glpk_api.GLPK_CMD'> unavailable\n",
      "Solver <class 'pulp.apis.xpress_api.XPRESS'> unavailable\n",
      "Solver <class 'pulp.apis.gurobi_api.GUROBI'> unavailable\n",
      "Solver <class 'pulp.apis.gurobi_api.GUROBI_CMD'> unavailable\n",
      "Solver <class 'pulp.apis.glpk_api.PYGLPK'> unavailable\n",
      "Solver <class 'pulp.apis.coin_api.YAPOSIB'> unavailable\n",
      "Solver <class 'pulp.apis.choco_api.PULP_CHOCO_CMD'> available\n",
      "Solver <class 'pulp.apis.choco_api.CHOCO_CMD'> unavailable\n",
      "Solver <class 'pulp.apis.mipcl_api.MIPCL_CMD'> unavailable\n",
      "Solver <class 'pulp.apis.mosek_api.MOSEK'> unavailable\n",
      "Solver <class 'pulp.apis.scip_api.SCIP_CMD'> unavailable\n",
      "\t Testing invalid status\n",
      "\t Testing continuous LP solution - export dict\n",
      "\t Testing MIP solution\n"
     ]
    },
    {
     "name": "stderr",
     "output_type": "stream",
     "text": [
      "............."
     ]
    },
    {
     "name": "stdout",
     "output_type": "stream",
     "text": [
      "\t Testing maximize continuous LP solution\n",
      "\t Testing continuous LP solution - export JSON\n",
      "\t Testing continuous LP solution - export solver dict\n",
      "\t Testing continuous LP solution - export solver JSON\n",
      "\t Testing makeDict general behavior\n",
      "\t Testing makeDict default value behavior\n",
      "\t Testing the availability of the function pulpTestAll\n",
      "\t Testing zero subtraction\n",
      "\t Testing inconsistent lp solution\n",
      "\t Testing continuous LP solution\n",
      "\t Testing maximize continuous LP solution\n"
     ]
    },
    {
     "name": "stderr",
     "output_type": "stream",
     "text": [
      "........"
     ]
    },
    {
     "name": "stdout",
     "output_type": "stream",
     "text": [
      "\t Testing unbounded continuous LP solution\n",
      "\t Testing Long Names\n",
      "\t Testing repeated Names\n",
      "\t Testing zero constraint\n",
      "\t Testing zero objective\n",
      "\t Testing LpVariable (not LpAffineExpression) objective\n",
      "\t Testing Long lines in LP\n",
      "\t Testing LpAffineExpression divide\n"
     ]
    },
    {
     "name": "stderr",
     "output_type": "stream",
     "text": [
      "........"
     ]
    },
    {
     "name": "stdout",
     "output_type": "stream",
     "text": [
      "\t Testing MIP solution\n",
      "\t Testing MIP solution with floats in objective\n",
      "\t Testing MIP solution\n",
      "\t Testing MIP solution\n",
      "\t Testing MIP relaxation\n",
      "\t Testing feasibility problem (no objective)\n",
      "\t Testing an infeasible problem\n",
      "\t Testing an integer infeasible problem\n",
      "\t Testing another integer infeasible problem\n"
     ]
    },
    {
     "name": "stderr",
     "output_type": "stream",
     "text": [
      ".........."
     ]
    },
    {
     "name": "stdout",
     "output_type": "stream",
     "text": [
      "\t Testing column based modelling\n",
      "\t Testing dual variables and slacks reporting\n",
      "\t Testing fractional constraints\n",
      "\t Testing elastic constraints (no change)\n",
      "\t Testing elastic constraints (freebound)\n",
      "\t Testing elastic constraints (penalty unchanged)\n",
      "\t Testing elastic constraints (penalty unbounded)\n"
     ]
    },
    {
     "name": "stderr",
     "output_type": "stream",
     "text": [
      "..."
     ]
    },
    {
     "name": "stdout",
     "output_type": "stream",
     "text": [
      "\t Testing invalid status\n",
      "\t Testing continuous LP solution - export dict\n"
     ]
    },
    {
     "name": "stderr",
     "output_type": "stream",
     "text": [
      "."
     ]
    },
    {
     "name": "stdout",
     "output_type": "stream",
     "text": [
      "\t Testing MIP solution\n"
     ]
    },
    {
     "name": "stderr",
     "output_type": "stream",
     "text": [
      "."
     ]
    },
    {
     "name": "stdout",
     "output_type": "stream",
     "text": [
      "\t Testing maximize continuous LP solution\n"
     ]
    },
    {
     "name": "stderr",
     "output_type": "stream",
     "text": [
      "."
     ]
    },
    {
     "name": "stdout",
     "output_type": "stream",
     "text": [
      "\t Testing continuous LP solution - export JSON\n"
     ]
    },
    {
     "name": "stderr",
     "output_type": "stream",
     "text": [
      "."
     ]
    },
    {
     "name": "stdout",
     "output_type": "stream",
     "text": [
      "\t Testing continuous LP solution - export solver dict\n"
     ]
    },
    {
     "name": "stderr",
     "output_type": "stream",
     "text": [
      "."
     ]
    },
    {
     "name": "stdout",
     "output_type": "stream",
     "text": [
      "\t Testing continuous LP solution - export solver JSON\n"
     ]
    },
    {
     "name": "stderr",
     "output_type": "stream",
     "text": [
      "......."
     ]
    },
    {
     "name": "stdout",
     "output_type": "stream",
     "text": [
      "\t Testing makeDict general behavior\n",
      "\t Testing makeDict default value behavior\n",
      "\t Testing the availability of the function pulpTestAll\n",
      "\t Testing zero subtraction\n",
      "\t Testing inconsistent lp solution\n",
      "\t Testing continuous LP solution\n"
     ]
    },
    {
     "name": "stderr",
     "output_type": "stream",
     "text": [
      "."
     ]
    },
    {
     "name": "stdout",
     "output_type": "stream",
     "text": [
      "\t Testing maximize continuous LP solution\n"
     ]
    },
    {
     "name": "stderr",
     "output_type": "stream",
     "text": [
      ".."
     ]
    },
    {
     "name": "stdout",
     "output_type": "stream",
     "text": [
      "\t Testing unbounded continuous LP solution\n",
      "\t Testing Long Names\n"
     ]
    },
    {
     "name": "stderr",
     "output_type": "stream",
     "text": [
      ".."
     ]
    },
    {
     "name": "stdout",
     "output_type": "stream",
     "text": [
      "\t Testing repeated Names\n",
      "\t Testing zero constraint\n"
     ]
    },
    {
     "name": "stderr",
     "output_type": "stream",
     "text": [
      "."
     ]
    },
    {
     "name": "stdout",
     "output_type": "stream",
     "text": [
      "\t Testing zero objective\n"
     ]
    },
    {
     "name": "stderr",
     "output_type": "stream",
     "text": [
      "."
     ]
    },
    {
     "name": "stdout",
     "output_type": "stream",
     "text": [
      "\t Testing LpVariable (not LpAffineExpression) objective\n"
     ]
    },
    {
     "name": "stderr",
     "output_type": "stream",
     "text": [
      ".."
     ]
    },
    {
     "name": "stdout",
     "output_type": "stream",
     "text": [
      "\t Testing LpAffineExpression divide\n"
     ]
    },
    {
     "name": "stderr",
     "output_type": "stream",
     "text": [
      "."
     ]
    },
    {
     "name": "stdout",
     "output_type": "stream",
     "text": [
      "\t Testing MIP solution\n"
     ]
    },
    {
     "name": "stderr",
     "output_type": "stream",
     "text": [
      "."
     ]
    },
    {
     "name": "stdout",
     "output_type": "stream",
     "text": [
      "\t Testing MIP solution with floats in objective\n"
     ]
    },
    {
     "name": "stderr",
     "output_type": "stream",
     "text": [
      "."
     ]
    },
    {
     "name": "stdout",
     "output_type": "stream",
     "text": [
      "\t Testing MIP solution\n"
     ]
    },
    {
     "name": "stderr",
     "output_type": "stream",
     "text": [
      "."
     ]
    },
    {
     "name": "stdout",
     "output_type": "stream",
     "text": [
      "\t Testing MIP solution\n"
     ]
    },
    {
     "name": "stderr",
     "output_type": "stream",
     "text": [
      ".C:\\Users\\User\\anaconda3\\lib\\site-packages\\pulp\\apis\\choco_api.py:83: UserWarning: CHOCO_CMD cannot solve the relaxation of a problem\n",
      "  warnings.warn(\"CHOCO_CMD cannot solve the relaxation of a problem\")\n"
     ]
    },
    {
     "name": "stdout",
     "output_type": "stream",
     "text": [
      "\t Testing MIP relaxation\n"
     ]
    },
    {
     "name": "stderr",
     "output_type": "stream",
     "text": [
      "."
     ]
    },
    {
     "name": "stdout",
     "output_type": "stream",
     "text": [
      "\t Testing feasibility problem (no objective)\n"
     ]
    },
    {
     "name": "stderr",
     "output_type": "stream",
     "text": [
      "."
     ]
    },
    {
     "name": "stdout",
     "output_type": "stream",
     "text": [
      "\t Testing an infeasible problem\n"
     ]
    },
    {
     "name": "stderr",
     "output_type": "stream",
     "text": [
      "."
     ]
    },
    {
     "name": "stdout",
     "output_type": "stream",
     "text": [
      "\t Testing an integer infeasible problem\n"
     ]
    },
    {
     "name": "stderr",
     "output_type": "stream",
     "text": [
      "."
     ]
    },
    {
     "name": "stdout",
     "output_type": "stream",
     "text": [
      "\t Testing another integer infeasible problem\n"
     ]
    },
    {
     "name": "stderr",
     "output_type": "stream",
     "text": [
      "."
     ]
    },
    {
     "name": "stdout",
     "output_type": "stream",
     "text": [
      "\t Testing column based modelling\n"
     ]
    },
    {
     "name": "stderr",
     "output_type": "stream",
     "text": [
      "....."
     ]
    },
    {
     "name": "stdout",
     "output_type": "stream",
     "text": [
      "\t Testing fractional constraints\n"
     ]
    },
    {
     "name": "stderr",
     "output_type": "stream",
     "text": [
      "."
     ]
    },
    {
     "name": "stdout",
     "output_type": "stream",
     "text": [
      "\t Testing elastic constraints (no change)\n"
     ]
    },
    {
     "name": "stderr",
     "output_type": "stream",
     "text": [
      "."
     ]
    },
    {
     "name": "stdout",
     "output_type": "stream",
     "text": [
      "\t Testing elastic constraints (freebound)\n"
     ]
    },
    {
     "name": "stderr",
     "output_type": "stream",
     "text": [
      "."
     ]
    },
    {
     "name": "stdout",
     "output_type": "stream",
     "text": [
      "\t Testing elastic constraints (penalty unchanged)\n"
     ]
    },
    {
     "name": "stderr",
     "output_type": "stream",
     "text": [
      "........................"
     ]
    },
    {
     "name": "stdout",
     "output_type": "stream",
     "text": [
      "\t Testing elastic constraints (penalty unbounded)\n",
      "{'a': 53.0, 'b': 45.3, 'c': 459.2}\n"
     ]
    },
    {
     "name": "stderr",
     "output_type": "stream",
     "text": [
      "......................\n",
      "----------------------------------------------------------------------\n",
      "Ran 129 tests in 26.379s\n",
      "\n",
      "OK\n"
     ]
    }
   ],
   "source": [
    "pulp.pulpTestAll() #pulp testuje co mamy dostepne w systemie"
   ]
  },
  {
   "cell_type": "markdown",
   "metadata": {
    "id": "JHP3Y3Yh-stH"
   },
   "source": [
    "# Zadania:\n",
    "\n",
    "1. przeczytaj materiały dotyczące pulp ze strony internetowej https://coin-or.github.io/pulp/main/index.html oraz przejdź przez blending problem (przepisz do swojego notebooka)\n",
    "\n",
    "2. w blending problem dodaj zmienną decyzyjną. Stwórz zmienną która pojawi się w końcowym składzie produktu (tj. wartość zmiennej będzie miała niezerową postać)\n",
    "\n",
    "3. Dodaj ograniczenie co do zawartości witaminy B \n",
    "\n",
    "Zawartość:\n",
    "\n",
    "| Nazwa      | zawartość ug/100g |\n",
    "|------------|-------------------|\n",
    "| chicken    | 0.3               |\n",
    "| beef       | 2.6               |\n",
    "| mutton     | 2.6               |\n",
    "| rice       | 0                 |\n",
    "| wheat bran | 0                 |\n",
    "| gel        | 0                 |\n",
    "| sardines   | 8.9               |\n",
    "\n",
    "Kot ma zjeść minimum 0.24 ug na kilogram masy więc około\n",
    "0.8 ug dziennie\n",
    "\n",
    "4. Na końcu ma pojawiać się zdanie podsumowujące wynik, w stylu:\n",
    "Końcowy produkt będzie kosztować {}, będzie miał w składzie {nazwa}: {} %, {nastepna nazwa}: {} %\n",
    "\n",
    "Takie zdanie można skleić z części generowanych automatycznie:\n",
    "\n"
   ]
  },
  {
   "cell_type": "markdown",
   "metadata": {},
   "source": [
    "### ----------------------------------------------------------------------------------------  \n",
    "### To zadanie zostało zrealizowane za pomocą case study dotyczącego tzw. mixing problem dostępnego w dokumentacji PuLP\n",
    "#### Jedyną znaczącą zmianą jest dodanie dodatkowego produktu do problemu (czyli i dodatkowej zmiennej) w postaci anchovies o właściwościach odżywczych opisanych w programie\n",
    " \n",
    "dodanym produktem były anchovies o następujących własciwościach (witamina b przeskalowana dla:  \n",
    "  \n",
    "| Nazwa | Zawartość na gram |\n",
    "| ------- | ----------------- |\n",
    "| protein | 0.290 |\n",
    "| fat | 0.10 |\n",
    "| fibre | 0 |\n",
    "| salt | 0.04 |\n",
    "| vit b | 9.0e-8 |\n",
    "| cost | 0.01 |"
   ]
  },
  {
   "cell_type": "code",
   "execution_count": 23,
   "metadata": {
    "colab": {
     "base_uri": "https://localhost:8080/",
     "height": 53
    },
    "id": "BhWf9b8IMJZ7",
    "outputId": "c4e437d7-32da-4e82-b320-cbbfe1a50941"
   },
   "outputs": [
    {
     "name": "stdout",
     "output_type": "stream",
     "text": [
      "['jabłko:5', 'banan:10']\n",
      "jabłko:5, banan:10\n"
     ]
    }
   ],
   "source": [
    "sklejone_produkt_cena = [\":\".join((produkt, str(cena))) for produkt,cena in zip([\"jabłko\",\"banan\"],[5,10])]\n",
    "print(sklejone_produkt_cena)\n",
    "sklejona_calosc = \", \".join(sklejone_produkt_cena)\n",
    "\n",
    "print(sklejona_calosc)"
   ]
  },
  {
   "cell_type": "code",
   "execution_count": 11,
   "metadata": {
    "id": "Se_t7o8bTLdW"
   },
   "outputs": [
    {
     "name": "stdout",
     "output_type": "stream",
     "text": [
      "Status: Not Solved\n",
      "AnchoviesPercent = None\n",
      "BeefPercent = None\n",
      "ChickenPercent = None\n",
      "Total Cost of Ingredients per can =  None\n"
     ]
    }
   ],
   "source": [
    "\"\"\" Simplified Whiskas Problem z case study dokumentacji PuLP Modeller\"\"\"\n",
    "from pulp import * #przestrzen nazw\n",
    "probS = LpProblem(\"Whiskas Problem Simplified\",LpMinimize) #caly problem minimalizacji\n",
    "x1 = LpVariable(\"ChickenPercent\", 0,100,LpInteger) #skladniki - zmienne decyzyjne\n",
    "x2 = LpVariable(\"BeefPercent\",0,100)\n",
    "x3 = LpVariable(\"AnchoviesPercent\",0,100)\n",
    "\"\"\"\n",
    "Anchovies ingredients per gram\n",
    "protein 0.290\n",
    "fat 0.10\n",
    "fibre 0\n",
    "salt 0.04\n",
    "vit b przeskalowane zeby nie pisac tych zer 0,09\n",
    "cost 0.01\n",
    "\n",
    "\"\"\"\n",
    "#dodanie objective function z kosztem (do zminimalizowania)\n",
    "probS += 0.013*x1+0.008*x2+0.01*x3, \"Total Cost of Ingredients per can\"\n",
    "#ograniczenia\n",
    "probS += x1 + x2 == 100, \"PercentageSum\"\n",
    "probS += 0.100*x1 + 0.200*x2 + 0.29*x3 >= 8.0, \"ProteinRequirement\"\n",
    "probS += 0.080*x1 + 0.100*x2 + 0.1*x3 >= 6.0, \"FatRequirement\"\n",
    "probS += 0.001*x1 + 0.005*x2 + 0*x3 <= 2.0, \"FibreRequirement\"\n",
    "probS += 0.002*x1 + 0.005*x2 + 0.004*x3  <= 0.4, \"SaltRequirement\"\n",
    "probS += 0.003*x1 + 0.026*x2 + 0.89*x3 >= 0.08, \"VitBRequiremen\"\n",
    "\n",
    "# The problem data is written to an .lp file\n",
    "probS.writeLP(\"WhiskasModel.lp\")\n",
    "\n",
    "# The status of the solution is printed to the screen\n",
    "print(\"Status:\", LpStatus[probS.status]) #zwracany jest w postaci wartosci liczbowej, z dict brany tekst\n",
    "\n",
    "# Each of the variables is printed with it's resolved optimum value\n",
    "for v in probS.variables():\n",
    "    print(v.name, \"=\", v.varValue) #wydrukowanie zmiennych i ich wartosci\n",
    "\n",
    "# The optimised objective function value is printed to the screen\n",
    "print(\"Total Cost of Ingredients per can = \", value(probS.objective)) #zoptymalizowana funkcja\n",
    "\n",
    "#nie rozwiazalo, ale chyba nierealistycznie ta witaminka - za duza wartosc a innych skladnikow za male, zobaczymy dla calego, nieuproszczonego"
   ]
  },
  {
   "cell_type": "code",
   "execution_count": 27,
   "metadata": {
    "scrolled": true
   },
   "outputs": [
    {
     "name": "stdout",
     "output_type": "stream",
     "text": [
      "Status: Optimal\n",
      "Ingr_ANCHOVIES = 60.0\n",
      "Ingr_BEEF = 0.0\n",
      "Ingr_CHICKEN = 0.0\n",
      "Ingr_GEL = 40.0\n",
      "Ingr_MUTTON = 0.0\n",
      "Ingr_RICE = 0.0\n",
      "Ingr_WHEAT = 0.0\n",
      "Total Cost of Ingredients per can =  0.52\n",
      "Końcowy produkt będzie kosztować 0.52 i będzie miał w składzie Ingr_ANCHOVIES : 60.0%, Ingr_BEEF : 0.0%, Ingr_CHICKEN : 0.0%, Ingr_GEL : 40.0%, Ingr_MUTTON : 0.0%, Ingr_RICE : 0.0%, Ingr_WHEAT : 0.0%, \n"
     ]
    }
   ],
   "source": [
    "\"\"\" Pelny Whiskas Problem\n",
    "\n",
    "Anchovies ingredients per gram\n",
    "protein 0.290\n",
    "fat 0.10\n",
    "fibre 0\n",
    "salt 0.04\n",
    "vit b przeskalowane zeby nie pisac tych zer 0,09\n",
    "cost 0.01\n",
    "\n",
    "\"\"\"\n",
    "from pulp import *\n",
    "\n",
    "# Creates a list of the Ingredients\n",
    "Ingredients = ['CHICKEN', 'BEEF', 'MUTTON', 'RICE', 'WHEAT', 'GEL', 'ANCHOVIES']\n",
    "\n",
    "# A dictionary of the costs of each of the Ingredients is created\n",
    "costs = {'CHICKEN': 0.013, \n",
    "         'BEEF': 0.01, \n",
    "         'MUTTON': 0.010, \n",
    "         'RICE': 0.002, \n",
    "         'WHEAT': 0.005, \n",
    "         'GEL': 0.001,\n",
    "        'ANCHOVIES': 0.008} #moze jednak realistyczniejszy pomoze, ale pewnie nie w ta strone\n",
    "\n",
    "# A dictionary of the protein percent in each of the Ingredients is created\n",
    "proteinPercent = {'CHICKEN': 0.100, \n",
    "                  'BEEF': 0.200, \n",
    "                  'MUTTON': 0.150, \n",
    "                  'RICE': 0.000, \n",
    "                  'WHEAT': 0.040, \n",
    "                  'GEL': 0.000,\n",
    "                 'ANCHOVIES': 0.290}\n",
    "\n",
    "# A dictionary of the fat percent in each of the Ingredients is created\n",
    "fatPercent = {'CHICKEN': 0.080, \n",
    "              'BEEF': 0.100, \n",
    "              'MUTTON': 0.110, \n",
    "              'RICE': 0.010, \n",
    "              'WHEAT': 0.010, \n",
    "              'GEL': 0.000,\n",
    "             'ANCHOVIES': 0.1}\n",
    "\n",
    "# A dictionary of the fibre percent in each of the Ingredients is created\n",
    "fibrePercent = {'CHICKEN': 0.001, \n",
    "                'BEEF': 0.005, \n",
    "                'MUTTON': 0.003, \n",
    "                'RICE': 0.100, \n",
    "                'WHEAT': 0.150, \n",
    "                'GEL': 0.000,\n",
    "               'ANCHOVIES': 0.000} #a moze dlatego, ze tam bylo 0 a nie 0.0\n",
    "\n",
    "# A dictionary of the salt percent in each of the Ingredients is created\n",
    "saltPercent = {'CHICKEN': 0.002, \n",
    "               'BEEF': 0.005, \n",
    "               'MUTTON': 0.007, \n",
    "               'RICE': 0.002, \n",
    "               'WHEAT': 0.008, \n",
    "               'GEL': 0.000,\n",
    "              'ANCHOVIES': 0.004}\n",
    "# dictionary zawartosci witaminy B\n",
    "vitbPercent = {'CHICKEN': 0.3e-8, #albo moze realistyczna notacja pomoze\n",
    "               'BEEF': 2.6e-8, \n",
    "               'MUTTON': 2.6e-8, \n",
    "               'RICE': 0, \n",
    "               'WHEAT': 0, \n",
    "               'GEL': 0,\n",
    "              'ANCHOVIES': 9.0e-8}\n",
    "\n",
    "# Create the 'prob' variable to contain the problem data\n",
    "prob = LpProblem(\"The Whiskas Problem\", LpMinimize)\n",
    "\n",
    "#dictionary przechowujacy i transformujacy nazwy\n",
    "# A dictionary called 'ingredient_vars' is created to contain the referenced Variables\n",
    "ingredient_vars = LpVariable.dicts(\"Ingr\",Ingredients,0)\n",
    "\n",
    "#suma z kazdego tworzaca funkcje\n",
    "# The objective function is added to 'prob' first\n",
    "prob += lpSum([costs[i]*ingredient_vars[i] for i in Ingredients]), \"Total Cost of Ingredients per can\"\n",
    "\n",
    "#ograniczenia rowniez suma z kazdego\n",
    "# The five constraints are added to 'prob'\n",
    "prob += lpSum([ingredient_vars[i] for i in Ingredients]) == 100, \"PercentagesSum\"\n",
    "prob += lpSum([proteinPercent[i] * ingredient_vars[i] for i in Ingredients]) >= 8.0, \"ProteinRequirement\"\n",
    "prob += lpSum([fatPercent[i] * ingredient_vars[i] for i in Ingredients]) >= 6.0, \"FatRequirement\"\n",
    "prob += lpSum([fibrePercent[i] * ingredient_vars[i] for i in Ingredients]) <= 2.0, \"FibreRequirement\"\n",
    "prob += lpSum([saltPercent[i] * ingredient_vars[i] for i in Ingredients]) <= 0.4, \"SaltRequirement\"\n",
    "prob += lpSum([saltPercent[i] * ingredient_vars[i] for i in Ingredients]) >= 8e-8, \"VitBRequirement\" #witamina\n",
    "\n",
    "#rozwiazywanie i wyswietlanie\n",
    "prob.writeLP(\"WhiskasModel.lp\")\n",
    "# The problem is solved using PuLP's choice of Solver\n",
    "prob.solve()\n",
    "# The status of the solution is printed to the screen\n",
    "print(\"Status:\", LpStatus[prob.status])\n",
    "# Each of the variables is printed with it's resolved optimum value\n",
    "for v in prob.variables():\n",
    "    print(v.name, \"=\", v.varValue)\n",
    "# The optimised objective function value is printed to the screen\n",
    "print(\"Total Cost of Ingredients per can = \", value(prob.objective))\n",
    "\n",
    "\"\"\"\n",
    "POMOC:\n",
    "Na końcu ma pojawiać się zdanie podsumowujące wynik, w stylu:\n",
    "Końcowy produkt będzie kosztować {}, będzie miał w składzie {nazwa}: {} %,\n",
    "{nastepna nazwa}: {} %\n",
    "\n",
    "sklejone_produkt_cena = [\":\".join((produkt, str(cena))) for produkt,cena in zip([\"jabłko\",\"banan\"],[5,10])]\n",
    "print(sklejone_produkt_cena)\n",
    "sklejona_calosc = \", \".join(sklejone_produkt_cena)\n",
    "\n",
    "print(sklejona_calosc)\n",
    "\"\"\"\n",
    "koncowy_tekst = \"Końcowy produkt będzie kosztować {} i będzie miał w składzie \".format(value(prob.objective));\n",
    "for v in prob.variables():\n",
    "    koncowy_tekst += v.name +\" : \"+str(v.varValue)+\"%, \"\n",
    "print(koncowy_tekst)"
   ]
  },
  {
   "cell_type": "markdown",
   "metadata": {},
   "source": [
    "### WNIOSKI\n",
    "\n",
    "#### niestety aby przebieg problemu i optymalne wartości rzeczywiście się zmieniły, konieczne było lekkie naginanie rzeczywistości ceny i zawartości dodanego produktu\n",
    "\n",
    "#### ostatecznie jednak problem został rozwiązany w optymalny sposób\n",
    "\n",
    "poniżej przedstawiony proces prób wprowadzania zmian\n"
   ]
  },
  {
   "cell_type": "code",
   "execution_count": null,
   "metadata": {},
   "outputs": [],
   "source": [
    "\"\"\"\n",
    "pierwszy wynik\n",
    "Status: Optimal\n",
    "Ingr_ANCHOVIES = 0.0\n",
    "Ingr_BEEF = 60.0\n",
    "Ingr_CHICKEN = 0.0\n",
    "Ingr_GEL = 40.0\n",
    "Ingr_MUTTON = 0.0\n",
    "Ingr_RICE = 0.0\n",
    "Ingr_WHEAT = 0.0\n",
    "Total Cost of Ingredients per can =  0.52\n",
    "\n",
    "okej, zmniejszmy koszt anchovies do 0.05\n",
    "to samo\n",
    "\n",
    "zwiekszmy wymaganie witaminy o rzad\n",
    "to samo\n",
    "\n",
    "beef jest za tanie po prostu\n",
    "\n",
    "\"\"\""
   ]
  }
 ],
 "metadata": {
  "colab": {
   "collapsed_sections": [],
   "name": "instalacja pierwsze ćwiczenia z Pulp",
   "provenance": []
  },
  "kernelspec": {
   "display_name": "Python 3",
   "language": "python",
   "name": "python3"
  },
  "language_info": {
   "codemirror_mode": {
    "name": "ipython",
    "version": 3
   },
   "file_extension": ".py",
   "mimetype": "text/x-python",
   "name": "python",
   "nbconvert_exporter": "python",
   "pygments_lexer": "ipython3",
   "version": "3.8.3"
  }
 },
 "nbformat": 4,
 "nbformat_minor": 1
}
