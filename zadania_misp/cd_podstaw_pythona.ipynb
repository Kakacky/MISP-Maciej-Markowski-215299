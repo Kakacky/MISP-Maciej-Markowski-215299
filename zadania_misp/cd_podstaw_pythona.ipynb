{
 "cells": [
  {
   "cell_type": "markdown",
   "metadata": {},
   "source": [
    "### W tym pliku kontyunowane jest poznawanie podstaw pythona, w tym list, krotek i pracy z nimi"
   ]
  },
  {
   "cell_type": "code",
   "execution_count": 3,
   "metadata": {},
   "outputs": [],
   "source": [
    "import numpy as np"
   ]
  },
  {
   "cell_type": "code",
   "execution_count": 4,
   "metadata": {},
   "outputs": [],
   "source": [
    "a_list= [1,2,3,4,5, [1,2,3], \"temat\"] # nie idealna lista\n",
    "k_krotka = (1,2,3,4,5, [1,2,3], \"temat\")\n",
    "b_list = [1,2,3,4,5]\n",
    "n_array = np.array(b_list) # wektor numpy\n"
   ]
  },
  {
   "cell_type": "code",
   "execution_count": 5,
   "metadata": {},
   "outputs": [
    {
     "data": {
      "text/plain": [
       "array([ 2,  4,  6,  8, 10])"
      ]
     },
     "execution_count": 5,
     "metadata": {},
     "output_type": "execute_result"
    }
   ],
   "source": [
    "a_list+b_list\n",
    "n_array+n_array"
   ]
  },
  {
   "cell_type": "code",
   "execution_count": 8,
   "metadata": {},
   "outputs": [
    {
     "data": {
      "text/plain": [
       "'t'"
      ]
     },
     "execution_count": 8,
     "metadata": {},
     "output_type": "execute_result"
    }
   ],
   "source": [
    "a_list[6][0]"
   ]
  },
  {
   "cell_type": "code",
   "execution_count": 15,
   "metadata": {},
   "outputs": [
    {
     "name": "stdout",
     "output_type": "stream",
     "text": [
      "[1, 2, 3, 4, 5, [1, 2, 3], 'temat', 100, 100]\n"
     ]
    }
   ],
   "source": [
    "a_list.append(100)\n",
    "print(a_list)"
   ]
  },
  {
   "cell_type": "code",
   "execution_count": 13,
   "metadata": {},
   "outputs": [
    {
     "data": {
      "text/plain": [
       "5"
      ]
     },
     "execution_count": 13,
     "metadata": {},
     "output_type": "execute_result"
    }
   ],
   "source": [
    "k_krotka[4]"
   ]
  },
  {
   "cell_type": "code",
   "execution_count": 14,
   "metadata": {},
   "outputs": [
    {
     "ename": "AttributeError",
     "evalue": "'tuple' object has no attribute 'append'",
     "output_type": "error",
     "traceback": [
      "\u001b[0;31m---------------------------------------------------------------------------\u001b[0m",
      "\u001b[0;31mAttributeError\u001b[0m                            Traceback (most recent call last)",
      "\u001b[0;32m<ipython-input-14-4da2f0146474>\u001b[0m in \u001b[0;36m<module>\u001b[0;34m\u001b[0m\n\u001b[0;32m----> 1\u001b[0;31m \u001b[0mk_krotka\u001b[0m\u001b[0;34m.\u001b[0m\u001b[0mappend\u001b[0m\u001b[0;34m(\u001b[0m\u001b[0;36m100\u001b[0m\u001b[0;34m)\u001b[0m\u001b[0;34m\u001b[0m\u001b[0;34m\u001b[0m\u001b[0m\n\u001b[0m",
      "\u001b[0;31mAttributeError\u001b[0m: 'tuple' object has no attribute 'append'"
     ]
    }
   ],
   "source": [
    "k_krotka.append(100)"
   ]
  },
  {
   "cell_type": "code",
   "execution_count": 15,
   "metadata": {},
   "outputs": [
    {
     "data": {
      "text/plain": [
       "array([ 2,  4,  6,  8, 10])"
      ]
     },
     "execution_count": 15,
     "metadata": {},
     "output_type": "execute_result"
    }
   ],
   "source": [
    "np.array(b_list)+np.array(b_list)"
   ]
  },
  {
   "cell_type": "code",
   "execution_count": 16,
   "metadata": {},
   "outputs": [],
   "source": [
    "n_array = np.array(a_list) # wektor numpy"
   ]
  },
  {
   "cell_type": "code",
   "execution_count": 19,
   "metadata": {},
   "outputs": [
    {
     "data": {
      "text/plain": [
       "array([1, 2, 3, 4, 5, list([1, 2, 3]), 'temat'], dtype=object)"
      ]
     },
     "execution_count": 19,
     "metadata": {},
     "output_type": "execute_result"
    }
   ],
   "source": [
    "n_array"
   ]
  },
  {
   "cell_type": "code",
   "execution_count": 21,
   "metadata": {},
   "outputs": [],
   "source": [
    "#### Nowosci\n",
    "\n",
    "studenci_slownik = {123: 123,\"Igor\":3, \"Frankek\":5, \"Zosia\":22,\"Julia\":[2,21], (1,2):\"Krotka\"}"
   ]
  },
  {
   "cell_type": "code",
   "execution_count": 18,
   "metadata": {},
   "outputs": [
    {
     "name": "stdout",
     "output_type": "stream",
     "text": [
      "{123: 123, 'Igor': 3, 'Frankek': 5, 'Zosia': 22, 'Julia': [2, 21], (1, 2): 'Krotka'}\n"
     ]
    }
   ],
   "source": [
    "print(studenci_slownik)"
   ]
  },
  {
   "cell_type": "code",
   "execution_count": 21,
   "metadata": {},
   "outputs": [
    {
     "data": {
      "text/plain": [
       "22"
      ]
     },
     "execution_count": 21,
     "metadata": {},
     "output_type": "execute_result"
    }
   ],
   "source": [
    "studenci_slownik[\"Zosia\"]"
   ]
  },
  {
   "cell_type": "code",
   "execution_count": 19,
   "metadata": {},
   "outputs": [
    {
     "name": "stdout",
     "output_type": "stream",
     "text": [
      "123\n",
      "Igor\n",
      "Frankek\n",
      "Zosia\n",
      "Julia\n",
      "(1, 2)\n",
      "********************\n",
      "123\n",
      "Igor\n",
      "Frankek\n",
      "Zosia\n",
      "Julia\n",
      "(1, 2)\n"
     ]
    }
   ],
   "source": [
    "for elementy in studenci_slownik:\n",
    "    print(elementy)\n",
    "\n",
    "print(\"*\"*20)\n",
    "for elementy in studenci_slownik.keys():\n",
    "    print(elementy)"
   ]
  },
  {
   "cell_type": "code",
   "execution_count": 23,
   "metadata": {},
   "outputs": [
    {
     "name": "stdout",
     "output_type": "stream",
     "text": [
      "('Igor', 3)\n",
      "('Frankek', 5)\n",
      "('Zosia', 22)\n",
      "('Julia', [2, 21])\n"
     ]
    }
   ],
   "source": [
    "for elementy in studenci_slownik.items():\n",
    "    print(elementy)"
   ]
  },
  {
   "cell_type": "code",
   "execution_count": 22,
   "metadata": {},
   "outputs": [
    {
     "name": "stdout",
     "output_type": "stream",
     "text": [
      "123\n",
      "3\n",
      "5\n",
      "22\n",
      "[2, 21]\n",
      "Krotka\n"
     ]
    }
   ],
   "source": [
    "for elementy in studenci_slownik.values():\n",
    "    print(elementy)"
   ]
  },
  {
   "cell_type": "code",
   "execution_count": 23,
   "metadata": {},
   "outputs": [],
   "source": [
    "studenci_slownik[\"Cuthulu\"]= -1000000"
   ]
  },
  {
   "cell_type": "code",
   "execution_count": 24,
   "metadata": {},
   "outputs": [
    {
     "data": {
      "text/plain": [
       "{123: 123,\n",
       " 'Igor': 3,\n",
       " 'Frankek': 5,\n",
       " 'Zosia': 22,\n",
       " 'Julia': [2, 21],\n",
       " (1, 2): 'Krotka',\n",
       " 'Cuthulu': -1000000}"
      ]
     },
     "execution_count": 24,
     "metadata": {},
     "output_type": "execute_result"
    }
   ],
   "source": [
    "studenci_slownik"
   ]
  },
  {
   "cell_type": "code",
   "execution_count": 25,
   "metadata": {},
   "outputs": [
    {
     "name": "stdout",
     "output_type": "stream",
     "text": [
      "[0, 16, 64, 144, 256, 400, 576, 784, 1024, 1296, 1600, 1936, 2304, 2704, 3136, 3600, 4096, 4624, 5184, 5776, 6400, 7056, 7744, 8464, 9216]\n"
     ]
    }
   ],
   "source": [
    "automatyczna_lista=[liczba**2 for liczba in range(100) if liczba%4==0]\n",
    "print(automatyczna_lista)"
   ]
  },
  {
   "cell_type": "code",
   "execution_count": 26,
   "metadata": {},
   "outputs": [
    {
     "name": "stdout",
     "output_type": "stream",
     "text": [
      "{0: 123, 1: 'Igor', 2: 'Frankek', 3: 'Zosia', 4: 'Julia', 5: (1, 2), 6: 'Cuthulu'}\n"
     ]
    }
   ],
   "source": [
    "studenci = studenci_slownik.keys()\n",
    "automatyczny_slownik=dict(para for para in enumerate(studenci))\n",
    "print(automatyczny_slownik)"
   ]
  },
  {
   "cell_type": "code",
   "execution_count": 22,
   "metadata": {},
   "outputs": [],
   "source": [
    "##### zbiory\n",
    "\n",
    "a={1,2,3,\"Franek\"}\n",
    "b={2,3,4,\"Franek\"}\n"
   ]
  },
  {
   "cell_type": "code",
   "execution_count": 23,
   "metadata": {},
   "outputs": [
    {
     "data": {
      "text/plain": [
       "{1, 2, 3, 4, 'Franek'}"
      ]
     },
     "execution_count": 23,
     "metadata": {},
     "output_type": "execute_result"
    }
   ],
   "source": [
    "a|b #suma zbiorów, sum of sets"
   ]
  },
  {
   "cell_type": "code",
   "execution_count": 24,
   "metadata": {},
   "outputs": [
    {
     "name": "stdout",
     "output_type": "stream",
     "text": [
      "{1, 2, 3, 'Franek'}\n"
     ]
    }
   ],
   "source": [
    "a.add(\"Franek\")\n",
    "print(a)"
   ]
  },
  {
   "cell_type": "code",
   "execution_count": 25,
   "metadata": {},
   "outputs": [
    {
     "data": {
      "text/plain": [
       "True"
      ]
     },
     "execution_count": 25,
     "metadata": {},
     "output_type": "execute_result"
    }
   ],
   "source": [
    "1 in a\n",
    "\"Igor\" in studenci_slownik"
   ]
  },
  {
   "cell_type": "markdown",
   "metadata": {},
   "source": [
    "### Własne typy"
   ]
  },
  {
   "cell_type": "code",
   "execution_count": 107,
   "metadata": {},
   "outputs": [],
   "source": [
    "zajecia = [[\"wf\"],\n",
    "           [\"informatyka\", \"nauka czytania\"],\n",
    "           [\"relax\", \"jedzenie\"],\n",
    "           [\"mispy\",\"mispy w domu\"],\n",
    "           [\"piateczek\", \"praca domowa z mispow\", \"Ilovemispy\", \"mispy w czasie snu\"]\n",
    "          ]\n",
    "\n",
    "dnityg= [\"Pon\",\"Wto\",\"Sro\",\"Czwar\",\"Pio\"]\n",
    "\n",
    "def dodaj_dwie_liczby(liczba1,liczba2):\n",
    "    return liczba1+liczba2"
   ]
  },
  {
   "cell_type": "code",
   "execution_count": 27,
   "metadata": {},
   "outputs": [],
   "source": [
    "class DzienZajec():\n",
    "    \"\"\"obiekt trzymający dany dzień zajęć i przypisane mu metody\"\"\"\n",
    "    \n",
    "    \n",
    "    def __init__(self, lista_na_dany_dzien, nazwa_dnia): #definicja\n",
    "        self.lista_zajec= lista_na_dany_dzien\n",
    "        self.dzien = nazwa_dnia\n",
    "        \n",
    "\n",
    "    \n",
    "    def ile_mispow(self):\n",
    "        ile_m = sum([1 for zajecie in self.lista_zajec if \"misp\" in zajecie.lower()])\n",
    "        return ile_m\n",
    "\n",
    "    @property #zamienia na wlasciwosc   \n",
    "    def ile_zajec(self):\n",
    "        return len(self.lista_zajec)\n",
    "    \n",
    "    def __repr__(self):\n",
    "        zajecia_do_stringa = \", \".join(self.lista_zajec)\n",
    "        return \"W dzien {} mam zajecia: {}\".format(self.dzien, zajecia_do_stringa)\n",
    "    "
   ]
  },
  {
   "cell_type": "code",
   "execution_count": 28,
   "metadata": {},
   "outputs": [],
   "source": [
    "pio_zajecia = DzienZajec([\"piateczek\", \"praca domowa z mispow\", \"Ilovemispy\", \"mispy w czasie snu\"],\n",
    "                        \"piatek\")"
   ]
  },
  {
   "cell_type": "code",
   "execution_count": 29,
   "metadata": {},
   "outputs": [
    {
     "data": {
      "text/plain": [
       "4"
      ]
     },
     "execution_count": 29,
     "metadata": {},
     "output_type": "execute_result"
    }
   ],
   "source": [
    "pio_zajecia.ile_zajec"
   ]
  },
  {
   "cell_type": "code",
   "execution_count": 30,
   "metadata": {},
   "outputs": [
    {
     "name": "stdout",
     "output_type": "stream",
     "text": [
      "W dzien piatek mam zajecia: piateczek, praca domowa z mispow, Ilovemispy, mispy w czasie snu\n"
     ]
    }
   ],
   "source": [
    "print(pio_zajecia)"
   ]
  },
  {
   "cell_type": "code",
   "execution_count": 33,
   "metadata": {},
   "outputs": [
    {
     "data": {
      "text/plain": [
       "['piateczek', 'praca domowa z mispow', 'Ilovemispy', 'mispy w czasie snu']"
      ]
     },
     "execution_count": 33,
     "metadata": {},
     "output_type": "execute_result"
    }
   ],
   "source": [
    "pio_zajecia.lista_zajec"
   ]
  },
  {
   "cell_type": "code",
   "execution_count": 34,
   "metadata": {},
   "outputs": [
    {
     "name": "stdout",
     "output_type": "stream",
     "text": [
      "['piateczek', 'praca domowa z mispow', 'Ilovemispy', 'mispy w czasie snu', 'MISP']\n"
     ]
    }
   ],
   "source": [
    "pio_zajecia.lista_zajec.append(\"MISP\")\n",
    "print(pio_zajecia.lista_zajec)"
   ]
  },
  {
   "cell_type": "code",
   "execution_count": 35,
   "metadata": {},
   "outputs": [
    {
     "data": {
      "text/plain": [
       "4"
      ]
     },
     "execution_count": 35,
     "metadata": {},
     "output_type": "execute_result"
    }
   ],
   "source": [
    "pio_zajecia.ile_mispow()"
   ]
  },
  {
   "cell_type": "code",
   "execution_count": 95,
   "metadata": {},
   "outputs": [
    {
     "name": "stdout",
     "output_type": "stream",
     "text": [
      "['piateczek', 'praca domowa z mispow', 'Ilovemispy', 'mispy w czasie snu', 'MISP']\n"
     ]
    }
   ],
   "source": [
    "print(pio_zajecia.lista_zajec)\n"
   ]
  },
  {
   "cell_type": "code",
   "execution_count": 85,
   "metadata": {},
   "outputs": [
    {
     "data": {
      "text/plain": [
       "W dzien piatek mam zajecia: piateczek, praca domowa z mispow, Ilovemispy, mispy w czasie snu, MISP"
      ]
     },
     "execution_count": 85,
     "metadata": {},
     "output_type": "execute_result"
    }
   ],
   "source": [
    "pio_zajecia"
   ]
  },
  {
   "cell_type": "code",
   "execution_count": 105,
   "metadata": {},
   "outputs": [
    {
     "name": "stdout",
     "output_type": "stream",
     "text": [
      "5\n"
     ]
    }
   ],
   "source": [
    "print(pio_zajecia.ile_zajec)"
   ]
  },
  {
   "cell_type": "code",
   "execution_count": 31,
   "metadata": {},
   "outputs": [
    {
     "ename": "NameError",
     "evalue": "name 'zajecia' is not defined",
     "output_type": "error",
     "traceback": [
      "\u001b[1;31m---------------------------------------------------------------------------\u001b[0m",
      "\u001b[1;31mNameError\u001b[0m                                 Traceback (most recent call last)",
      "\u001b[1;32m<ipython-input-31-d2b04ac9b9c6>\u001b[0m in \u001b[0;36m<module>\u001b[1;34m\u001b[0m\n\u001b[0;32m      1\u001b[0m lista_zajec= [DzienZajec(lista_dzien, dzien) for lista_dzien, dzien in \n\u001b[1;32m----> 2\u001b[1;33m              zip(zajecia,dnityg)]\n\u001b[0m",
      "\u001b[1;31mNameError\u001b[0m: name 'zajecia' is not defined"
     ]
    }
   ],
   "source": [
    "lista_zajec= [DzienZajec(lista_dzien, dzien) for lista_dzien, dzien in \n",
    "             zip(zajecia,dnityg)]"
   ]
  },
  {
   "cell_type": "code",
   "execution_count": 109,
   "metadata": {},
   "outputs": [
    {
     "name": "stdout",
     "output_type": "stream",
     "text": [
      "[W dzien Pon mam zajecia: wf, W dzien Wto mam zajecia: informatyka, nauka czytania, W dzien Sro mam zajecia: relax, jedzenie, W dzien Czwar mam zajecia: mispy, mispy w domu, W dzien Pio mam zajecia: piateczek, praca domowa z mispow, Ilovemispy, mispy w czasie snu]\n"
     ]
    }
   ],
   "source": [
    "print(lista_zajec)"
   ]
  },
  {
   "cell_type": "code",
   "execution_count": 112,
   "metadata": {},
   "outputs": [],
   "source": [
    "posortowane_po_zajeciach=sorted(lista_zajec, key= lambda zajecie: zajecie.ile_zajec)\n",
    "posortowane_po_mispach=sorted(lista_zajec, key= lambda zajecie: zajecie.ile_mispow())"
   ]
  },
  {
   "cell_type": "code",
   "execution_count": 113,
   "metadata": {},
   "outputs": [
    {
     "name": "stdout",
     "output_type": "stream",
     "text": [
      "[W dzien Pon mam zajecia: wf, W dzien Wto mam zajecia: informatyka, nauka czytania, W dzien Sro mam zajecia: relax, jedzenie, W dzien Czwar mam zajecia: mispy, mispy w domu, W dzien Pio mam zajecia: piateczek, praca domowa z mispow, Ilovemispy, mispy w czasie snu]\n"
     ]
    }
   ],
   "source": [
    "print(posortowane_po_zajeciach)"
   ]
  },
  {
   "cell_type": "code",
   "execution_count": 114,
   "metadata": {},
   "outputs": [
    {
     "name": "stdout",
     "output_type": "stream",
     "text": [
      "[W dzien Pon mam zajecia: wf, W dzien Wto mam zajecia: informatyka, nauka czytania, W dzien Sro mam zajecia: relax, jedzenie, W dzien Czwar mam zajecia: mispy, mispy w domu, W dzien Pio mam zajecia: piateczek, praca domowa z mispow, Ilovemispy, mispy w czasie snu]\n"
     ]
    }
   ],
   "source": [
    "print(posortowane_po_mispach)"
   ]
  },
  {
   "cell_type": "markdown",
   "metadata": {},
   "source": [
    "##### challenge 1\n",
    "\n",
    "Stworz typ NumerTelefonu\n",
    "\n",
    " -- przy tworzeniu sprawdza czy właściwy numer (Polski) jeśli nie pisze, że error (ew. Exception)\n",
    " \n",
    " -- gdy printuję to mi pisze polskimi słowami i.e. \"jeden, pięć, siedem, zero\"\n",
    " \n",
    " -- gdy wywołuję właściwość wojewodzwtwo, podaje mi wojewodztwo ew. ze to komorkowy\n",
    " \n",
    "dodatkowo z klasy telefon można zrobić książkę telefoniczną, która będzie sortowała po województwach albo jak wpisze się tylko część to uzupełniać czy coś takiego\n",
    "\n"
   ]
  },
  {
   "cell_type": "code",
   "execution_count": 106,
   "metadata": {},
   "outputs": [],
   "source": [
    "class NumerTelefonu():\n",
    "#krotka przechowujaca slowne reprezentacje cyfr   \n",
    "    cyferki = (\"jeden\", \"dwa\", \"trzy\", \"cztery\", \"piec\", \"szesc\", \"siedem\", \"osiem\", \"dziewiec\", \"dziesiec\")\n",
    "    \n",
    "#slownik z wartosciami kodow kierunkowych (dawnych) wojewodztw\n",
    "    wojewodztwa = {\"12\":\"Krakow\", \"42\":\"Lodz\", \"22\":\"Warszawa\"}\n",
    "#inicjalizator\n",
    "    def __init__(self, podany):\n",
    "        if(len(podany) == 9):\n",
    "            print(\"podany zostal prawidlowy numer\") #przed przypisaniem podanej wartosci sprawdza ja\n",
    "            self.numer = podany # i zwraca status\n",
    "        else:\n",
    "            print(\"nie jest to prawidlowy numer\")\n",
    "            numer = None\n",
    "    @property\n",
    "    def wojewodztwo(self):\n",
    "        if self.numer[:2] in self.wojewodztwa.keys(): #sprawdza czy pierwsze dwie cyfry (znaki) numeru odpowiadaja ktoremus z kluczy\n",
    "            return self.wojewodztwa[self.numer[:2]] #zwraca odpowiadajaca kluczowi wartosc\n",
    "        else:\n",
    "            return None\n",
    "    def __str__(self):\n",
    "        ret = \"\"; #tworzy string do zwrocenia\n",
    "        for cyfra in self.numer: #dla kazdego znaku numeru\n",
    "            ret += str(self.cyferki[int(cyfra) - 1]) + \" \" #wybiera element z krotki z reprezentacjami cyfr i dodaje do zwracanego stringa\n",
    "        return ret;"
   ]
  },
  {
   "cell_type": "code",
   "execution_count": 110,
   "metadata": {},
   "outputs": [
    {
     "name": "stdout",
     "output_type": "stream",
     "text": [
      "podany zostal prawidlowy numer\n",
      "Lodz\n",
      "cztery dwa trzy cztery trzy trzy siedem osiem dziewiec \n"
     ]
    }
   ],
   "source": [
    "#testy\n",
    "\n",
    "poprawny = NumerTelefonu(\"423433789\")\n",
    "print(poprawny.wojewodztwo)\n",
    "print(poprawny)\n",
    "\n",
    "#print(bledny.cyferki[int(bledny.numer[0])])\n",
    "#print(bledny.numer[0])\n",
    "#print(bledny.wojewodztwa.keys())\n",
    "#print(bledny.numer[:2])\n",
    "#print(bledny.wojewodztwa[bledny.numer[:2]])\n"
   ]
  },
  {
   "cell_type": "code",
   "execution_count": null,
   "metadata": {},
   "outputs": [],
   "source": [
    "# ma na takie rzeczy być w stanie odpowiedzieć\n",
    "\n",
    "numer_lodz = NumerTelefonu(\"426877868\")\n",
    ">>> \"prawidlowy numer\"\n",
    "\n",
    "numer_lodz.wojewodztwo \n",
    ">>> \"Lodz\"\n",
    "\n",
    "print(numer_lodz)\n",
    ">>> \"cztery dwa sześć osiem siedem siedem osiem sześć osiem\""
   ]
  }
 ],
 "metadata": {
  "kernelspec": {
   "display_name": "Python 3",
   "language": "python",
   "name": "python3"
  },
  "language_info": {
   "codemirror_mode": {
    "name": "ipython",
    "version": 3
   },
   "file_extension": ".py",
   "mimetype": "text/x-python",
   "name": "python",
   "nbconvert_exporter": "python",
   "pygments_lexer": "ipython3",
   "version": "3.8.3"
  }
 },
 "nbformat": 4,
 "nbformat_minor": 2
}
