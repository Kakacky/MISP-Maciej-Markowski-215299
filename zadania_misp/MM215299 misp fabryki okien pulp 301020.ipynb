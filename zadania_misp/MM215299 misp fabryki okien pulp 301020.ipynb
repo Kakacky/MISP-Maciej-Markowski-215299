{
 "cells": [
  {
   "cell_type": "markdown",
   "metadata": {},
   "source": [
    "### Rozpatrywanym problemem jest opisany na wykładzie problem optymalizacji pracy fabryk okien\n",
    "#### fabryki mogą jedynie produkować określoną ilość okien w określonym czasie, a dodatkowo wymagają współpracy ze sobą\n",
    "#### postawionym pytaniem jest jak osiagnąć maksymalne zyski z produkcji okien czyli na produkcje których okien przeznaczyć czas pracy fabryk\n",
    "zmiennymi problemu sa ilość wyprodukowanych okien danego typu (drewniane lub aluminiowe)  \n",
    "ograniczeniami sa dostępne, współdzielone czasy fabryk  \n",
    "algorytm pulp uwzgledniając wszystkie zmienne i ograniczenia optymalizuje problem\n",
    "\n",
    "![Zdjęcie rozkładu godzin produkcji okien w fabrykach](./images/okna.png)\n",
    "\n",
    "tabela przedstawia czas potrzebny na produkcję typu okna i dostępne czasy w tygodniu\n",
    "\n",
    "### znaczenie wiekszosci wywolywanych funkcji i tworzonych zmiennych opisana jest komentarzami w programie"
   ]
  },
  {
   "cell_type": "code",
   "execution_count": 5,
   "metadata": {},
   "outputs": [
    {
     "name": "stdout",
     "output_type": "stream",
     "text": [
      "2.3.1\n"
     ]
    }
   ],
   "source": [
    "#test\n",
    "import pulp\n",
    "print(pulp.__version__)"
   ]
  },
  {
   "cell_type": "code",
   "execution_count": 6,
   "metadata": {},
   "outputs": [],
   "source": [
    "#import do namespace\n",
    "from pulp import *"
   ]
  },
  {
   "cell_type": "code",
   "execution_count": 22,
   "metadata": {},
   "outputs": [
    {
     "name": "stdout",
     "output_type": "stream",
     "text": [
      "Status: Optimal\n",
      "Aluminiowe = 2.0\n",
      "Drewniane = 6.0\n",
      "Calkowite zarobki = 36000.0\n"
     ]
    }
   ],
   "source": [
    "#stworzenie problemu\n",
    "prob = LpProblem(\"Problem Okien\", LpMaximize)\n",
    "#zmienne w postaci ilosci wyprodukowanych partii\n",
    "x1 = LpVariable(\"Drewniane\",0,None,LpInteger)\n",
    "x2 = LpVariable(\"Aluminiowe\",0,None,LpInteger)\n",
    "#problem z zyskami\n",
    "prob +=5000*x1 + 3000*x2, \"Calkowity zysk\"\n",
    "#ograniczenia\n",
    "prob += 0*x1 + 1*x2 <= 4 #fabryka1\n",
    "prob += 2*x1 + 0*x2 <= 12 #fabryka2\n",
    "prob += 2*x1 + 3*x2 <= 18 #fabryka3\n",
    "#x1 += 4\n",
    "#x2 += 6\n",
    "\n",
    "#prob += 4*x1 + 4*x2 <= 34\n",
    "\n",
    "\n",
    "prob.writeLP(\"ProblemOkien.lp\") #zapis do pliku\n",
    "#rozwiazanie\n",
    "prob.solve()\n",
    "#czy rozwiazalo\n",
    "print(\"Status:\", LpStatus[prob.status])\n",
    "#dobrane wartosci zmiennych\n",
    "for v in prob.variables():\n",
    "    print(v.name, \"=\", v.varValue)\n",
    "#wartosc zoptymalizowanej funkcji (zysk)\n",
    "print(\"Calkowite zarobki =\", value(prob.objective))"
   ]
  },
  {
   "cell_type": "markdown",
   "metadata": {},
   "source": [
    "### Jako kolejny etap rozwiazywania problemu, została zrealizowana interakcja z problemem, tzn dodanie suwaków pozwalających zmieniać parametry problemu takie jak zysk z produkcji okien (uwzględniany w funkcji optymalizacyjnej) czy ilości godzin pracy fabryk uwzględniane w ograniczeniach"
   ]
  },
  {
   "cell_type": "code",
   "execution_count": 33,
   "metadata": {},
   "outputs": [
    {
     "data": {
      "application/vnd.jupyter.widget-view+json": {
       "model_id": "ba6ff007d58f46cd8caeb3fd3a92b318",
       "version_major": 2,
       "version_minor": 0
      },
      "text/plain": [
       "interactive(children=(IntSlider(value=3000, description='zarobek_aluminiowe_slider', max=10000, style=SliderSt…"
      ]
     },
     "metadata": {},
     "output_type": "display_data"
    },
    {
     "data": {
      "text/plain": [
       "<function __main__.produkcja_okien(zarobek_alum=3000, zarobek_drew=5000, godzf3alum=3, godzf3drew=2, godzf2alum=0, godzf2drew=2, godzf1alum=1, godzf1drew=0, godzf3max=18, godzf2max=12, godzf1max=4)>"
      ]
     },
     "execution_count": 33,
     "metadata": {},
     "output_type": "execute_result"
    }
   ],
   "source": [
    "#dorzucic interaktywnosc i tabelke tak jak w pliku formulowanie_zadan, tylko z wlasnym problemem okien\n",
    "#?? interact\n",
    "from __future__ import print_function\n",
    "from ipywidgets import interact, interactive, fixed, interact_manual, Layout, FloatSlider, IntSlider\n",
    "import ipywidgets as widgets\n",
    "import pandas as pd\n",
    "\n",
    "style = {'description_width': 'initial'}\n",
    "\n",
    "zarobek_drewniane_slider=IntSlider(min=0, max = 10000, value = 5000, description=\"zarobek_drewniane_slider\",style = style)\n",
    "zarobek_aluminiowe_slider=IntSlider(min=0, max = 10000, value = 3000, description=\"zarobek_aluminiowe_slider\",style = style)\n",
    "godzinyf3aluminiowe_slider=IntSlider(min=0, max = 6, value = 3, description=\"godzinyf3aluminiowe_slider\",style = style)\n",
    "godzinyf3drewniane_slider=IntSlider(min=0, max = 6, value = 2, description=\"godzinyf3drewniane_slider\",style = style)\n",
    "godzinyf2aluminiowe_slider=IntSlider(min=0, max = 4, value = 0, description=\"godzinyf2aluminiowe_slider\",style = style)\n",
    "godzinyf2drewniane_slider=IntSlider(min=0, max = 4, value = 2, description=\"godzinyf2drewniane_slider\",style = style)\n",
    "godzinyf1aluminiowe_slider=IntSlider(min=0, max = 4, value = 1, description=\"godzinyf1aluminiowe_slider\",style = style)\n",
    "godzinyf1drewniane_slider=IntSlider(min=0, max = 4, value = 0, description=\"godzinyf1drewniane_slider\",style = style)\n",
    "godzinyf1max_slider=IntSlider(min=0, max = 4, value = 4, description=\"godzinyf1max_slider\",style = style)\n",
    "godzinyf2max_slider=IntSlider(min=0, max = 12, value = 12, description=\"godzinyf2max_slider\",style = style)\n",
    "godzinyf3max_slider=IntSlider(min=0, max = 18, value = 18, description=\"godzinyf3max_slider\",style = style)\n",
    "\n",
    "def produkcja_okien(zarobek_alum = 3000,\n",
    "                   zarobek_drew = 5000,\n",
    "                   godzf3alum=3,\n",
    "                   godzf3drew=2,\n",
    "                   godzf2alum=0,\n",
    "                   godzf2drew=2,\n",
    "                    godzf1alum=1,\n",
    "                   godzf1drew=0,\n",
    "                   godzf3max=18,\n",
    "                   godzf2max=12,\n",
    "                   godzf1max=4\n",
    "                   ):\n",
    "    #stworzenie problemu\n",
    "    prob = LpProblem(\"Problem Okien\", LpMaximize)\n",
    "    #zmienne w postaci ilosci wyprodukowanych partii\n",
    "    x1 = LpVariable(\"Drewniane\",0,None,LpInteger)\n",
    "    x2 = LpVariable(\"Aluminiowe\",0,None,LpInteger)\n",
    "    #problem z zyskami\n",
    "    prob +=zarobek_drew*x1 + zarobek_alum*x2, \"Calkowity zysk\"\n",
    "    #ograniczenia\n",
    "    prob += godzf1drew*x1 + godzf1alum*x2 <= godzf1max,\"czas fabryka 1\" #fabryka1\n",
    "    prob += godzf2drew*x1 + godzf2alum*x2 <= godzf2max,\"czas fabryka 2\" #fabryka2\n",
    "    prob += godzf3drew*x1 + godzf3alum*x2 <= godzf3max, \"czas fabryka 3\" #fabryka3\n",
    "    #prob += 2*x1 + 0*x2 <= 12 #fabryka2\n",
    "    #prob += 2*x1 + 3*x2 <= 18 #fabryka3\n",
    "    \n",
    "    #rozwiazanie\n",
    "    prob.solve()\n",
    "    #czy rozwiazalo\n",
    "    print(\"Status:\", LpStatus[prob.status])\n",
    "    #dobrane wartosci zmiennych\n",
    "    for v in prob.variables():\n",
    "        print(v.name, \"=\", v.varValue)\n",
    "    #wartosc zoptymalizowanej funkcji (zysk)\n",
    "    print(\"Calkowite zarobki =\", value(prob.objective))\n",
    "    \n",
    "    shadows = [{'name':name, 'shadow price': c.pi, \"slack\": c.slack} for name, c in prob.constraints.items()]\n",
    "    print(\"*\"*10+\"Shadow Prices\"+\"*\"*10)\n",
    "    print(pd.DataFrame(shadows))\n",
    "\n",
    "interact(produkcja_okien,\n",
    "    zarobek_alum=zarobek_aluminiowe_slider,\n",
    "    zarobek_drew=zarobek_drewniane_slider,\n",
    "    godzf3alum=godzinyf3aluminiowe_slider,\n",
    "    godzf3drew=godzinyf3drewniane_slider,\n",
    "    godzf2alum=godzinyf2aluminiowe_slider,\n",
    "    godzf2drew=godzinyf2drewniane_slider,\n",
    "    godzf1alum=godzinyf1aluminiowe_slider,\n",
    "    godzf1drew=godzinyf1drewniane_slider,\n",
    "    godzf3max=godzinyf3max_slider,\n",
    "    godzf2max=godzinyf2max_slider,\n",
    "    godzf1max=godzinyf1max_slider)"
   ]
  },
  {
   "cell_type": "markdown",
   "metadata": {},
   "source": [
    "### WNIOSKI\n",
    "przy powyzszych zalozeniach nawet zwiekszenie\n",
    "ceny aluminiowych do 10000 to za malo by zmienic ilosc dobieranych okien\n",
    "dopiero zmniejszenie ilosci godzin potrzebnych na prace nad aluminium przy zwiekszeniu zysku ma wplyw\n",
    "szczegolnie zmiany w fabryce 2 i 3\n",
    "\n",
    "shadow price sie nie zmienia, slack (potencjal) natomiast tak\n",
    "prawdopodobnie jest to kwestia bottlenecka fabrycki 1\n",
    "\n"
   ]
  },
  {
   "cell_type": "code",
   "execution_count": null,
   "metadata": {},
   "outputs": [],
   "source": []
  }
 ],
 "metadata": {
  "kernelspec": {
   "display_name": "Python 3",
   "language": "python",
   "name": "python3"
  },
  "language_info": {
   "codemirror_mode": {
    "name": "ipython",
    "version": 3
   },
   "file_extension": ".py",
   "mimetype": "text/x-python",
   "name": "python",
   "nbconvert_exporter": "python",
   "pygments_lexer": "ipython3",
   "version": "3.8.3"
  }
 },
 "nbformat": 4,
 "nbformat_minor": 4
}
