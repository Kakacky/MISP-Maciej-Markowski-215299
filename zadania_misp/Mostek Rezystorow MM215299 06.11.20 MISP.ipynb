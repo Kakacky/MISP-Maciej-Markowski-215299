{
 "cells": [
  {
   "cell_type": "markdown",
   "metadata": {},
   "source": [
    "## Rozwiązywany jest problem wyznaczenia minimalnej mocy jaka ma wydzielić sie na układzie dostarczonym na zajeciach (jest to moc strat cieplnych - chcemy minimalizować straty)\n",
    "### rozwiązywany jest on jako problem liniowy za pomoca biblioteki pulp\n",
    "  \n",
    "zmiennymi liniowymi sa wartości odwrotności rezystancji ukśadu, taka konwencja (zamiast wykorzystania bezpośrednio rezystancji) uprosciła zapis\n",
    "ograniczeniami są rownania pradowo-napieciowe, ktore muszą być spełnione\n",
    "problem jest typu miminalizującego\n",
    "funkcją zysku (tutaj ograniczenia straty) jest całkowita moc wydzielana na układzie, czyli odpowiednio przemnożone i dodane zmienne liniowe\n",
    "\n",
    "![Zdj układu](./images/mostek.png)\n",
    "\n",
    "### znaczenie wiekszości wywoływanych funkcji i tworzonych zmiennych opisana jest komentarzami w programie"
   ]
  },
  {
   "cell_type": "code",
   "execution_count": 1,
   "metadata": {},
   "outputs": [
    {
     "name": "stdout",
     "output_type": "stream",
     "text": [
      "2.3.1\n"
     ]
    }
   ],
   "source": [
    "import pulp\n",
    "print(pulp.__version__)"
   ]
  },
  {
   "cell_type": "code",
   "execution_count": 2,
   "metadata": {},
   "outputs": [],
   "source": [
    "from pulp import *"
   ]
  },
  {
   "cell_type": "code",
   "execution_count": 15,
   "metadata": {},
   "outputs": [
    {
     "name": "stdout",
     "output_type": "stream",
     "text": [
      "Status: Optimal\n",
      "R1 = 2000.0\n",
      "R2 = 10000.0\n",
      "R3 = 4000.0\n",
      "R4 = 7000.000140000004\n",
      "R5 = 1000.0\n",
      "Calkowita moc =  0.04799999986\n"
     ]
    }
   ],
   "source": [
    "prob = LpProblem(\"MostekRezystorow\", LpMinimize)\n",
    "#zmiennymi sa odwrotnosci rezystancji, bo tak latwiej zlinearyzowac\n",
    "x1 = LpVariable(\"R1\",0.0001)\n",
    "x2 = LpVariable(\"R2\",0.0001)\n",
    "x3 = LpVariable(\"R3\",0.0001)\n",
    "x4 = LpVariable(\"R4\",0.0001)\n",
    "x5 = LpVariable(\"R5\",0.0001)\n",
    "\n",
    "#problem minimalizacji mocy U^2 / R, gdzie U/R musi sie miescic w zakresie pradu\n",
    "prob += 36 * x1 + 100 * x2 + 16 * x3 + 49 * x4 + 9 * x5, \"Calkowita moc\"\n",
    "#ograniczenia   I - delta < U/R < I + delta\n",
    "prob += 6 * x1 <= 5e-3\n",
    "prob += 6 * x1 >= 3e-3\n",
    "prob += 10 * x2 <= 3e-3\n",
    "prob += 10 * x2 >= 1e-3\n",
    "prob += 4 * x3 <= 3e-3\n",
    "prob += 4 * x3 >= 1e-3\n",
    "prob += 7 * x4 <= 3e-3\n",
    "prob += 7 * x4 >= 1e-3\n",
    "prob += 3 * x5 <= 5e-3\n",
    "prob += 3 * x5 >= 3e-3\n",
    "\n",
    "\n",
    "prob.writeLP(\"MostekRezystorow.lp\") #zapis do pliku\n",
    "prob.solve() #rozwiazanie\n",
    "print(\"Status:\", LpStatus[prob.status]) #status rozwiazania\n",
    "\n",
    "for v in prob.variables(): #obliczone wartosci zmiennych\n",
    "    print(v.name, \"=\", (1/v.varValue)) #odwrotnosc bo rezystancje\n",
    "print(\"Calkowita moc = \", value(prob.objective))\n",
    "\n"
   ]
  },
  {
   "cell_type": "markdown",
   "metadata": {},
   "source": [
    " #### Poprzez odwrócenie zwracanych wartości otrzymujemy poszukiwane w zadaniu rezystancji (mimo w pulpie używania ich odwrotności)\n",
    " Otrzymana moc jest niewielka, można zatem uznać problem za rozwiązany, według PuLP jest to rozwiązanie optymalne"
   ]
  },
  {
   "cell_type": "code",
   "execution_count": null,
   "metadata": {},
   "outputs": [],
   "source": []
  }
 ],
 "metadata": {
  "kernelspec": {
   "display_name": "Python 3",
   "language": "python",
   "name": "python3"
  },
  "language_info": {
   "codemirror_mode": {
    "name": "ipython",
    "version": 3
   },
   "file_extension": ".py",
   "mimetype": "text/x-python",
   "name": "python",
   "nbconvert_exporter": "python",
   "pygments_lexer": "ipython3",
   "version": "3.8.3"
  }
 },
 "nbformat": 4,
 "nbformat_minor": 4
}
